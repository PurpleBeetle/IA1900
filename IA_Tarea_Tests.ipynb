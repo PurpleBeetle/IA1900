{
  "nbformat": 4,
  "nbformat_minor": 0,
  "metadata": {
    "colab": {
      "provenance": [],
      "authorship_tag": "ABX9TyMO4z6xq8OE/y1hWqDt24zz",
      "include_colab_link": true
    },
    "kernelspec": {
      "name": "python3",
      "display_name": "Python 3"
    },
    "language_info": {
      "name": "python"
    }
  },
  "cells": [
    {
      "cell_type": "markdown",
      "metadata": {
        "id": "view-in-github",
        "colab_type": "text"
      },
      "source": [
        "<a href=\"https://colab.research.google.com/github/PurpleBeetle/IA1900/blob/main/IA_Tarea_Tests.ipynb\" target=\"_parent\"><img src=\"https://colab.research.google.com/assets/colab-badge.svg\" alt=\"Open In Colab\"/></a>"
      ]
    },
    {
      "cell_type": "code",
      "source": [
        "import pandas as pd\n",
        "import numpy as np\n",
        "from sklearn.model_selection import train_test_split\n",
        "from sklearn.linear_model import LinearRegression\n",
        "from sklearn.metrics import mean_squared_error, r2_score\n",
        "import matplotlib.pyplot as plt\n",
        "\n",
        "df = pd.read_csv('./housing.csv')\n",
        "\n",
        "# Guardamos la columna 'ocean_proximity' con un nuevo nombre 'region' para hacer analisis por zonas\n",
        "df['region'] = df['ocean_proximity']\n",
        "\n",
        "# Agrupamos por region y calculamos los promedios de ingreso de la casa por region\n",
        "region_means = df.groupby('region')[['median_income', 'median_house_value']].mean()\n",
        "\n",
        "# Creamos una nueva columna que representa la relacion ingreso de la casa por región\n",
        "region_means['region_income_ratio'] = region_means['median_income'] / region_means['median_house_value']\n",
        "\n",
        "# Unimos esta nueva columna al DataFrame original para cada fila segun su region\n",
        "df = df.merge(region_means['region_income_ratio'], on='region', how='left')\n",
        "\n",
        "# Convertimos la columna categorica 'region' en columnas dummy (0 o 1 por region)\n",
        "df = pd.concat([df, pd.get_dummies(df['region'], dtype=int)], axis=1)\n",
        "\n",
        "# Eliminamos columnas que ya no necesitamos\n",
        "df.drop(['ocean_proximity', 'region'], axis=1, inplace=True)\n",
        "\n",
        "# Eliminamos cualquier fila que tenga datos faltantes (NaN)\n",
        "df.dropna(inplace=True)\n",
        "\n",
        "# Creamos nuevas columnas (features) a partir de combinaciones de las ya existentes\n",
        "\n",
        "# Estas ayudan a que el modelo tenga mas contexto y aprenda mejor\n",
        "df['bedroom_ratio'] = df['total_rooms'] / df['total_bedrooms']                 # Cuartos por dormitorio\n",
        "df['rooms_per_household'] = df['total_rooms'] / df['households']               # Cuartos por hogar\n",
        "df['bedrooms_per_room'] = df['total_bedrooms'] / df['total_rooms']             # Proporcion de dormitorios respecto a los cuartos\n",
        "df['population_per_household'] = df['population'] / df['households']           # Personas por hogar\n",
        "df['income_per_person'] = df['median_income'] / df['population']               # Ingreso por persona\n",
        "df['people_per_room'] = df['population'] / df['total_rooms']                   # Personas por cuarto\n",
        "df['households_per_room'] = df['households'] / df['total_rooms']               # Hogares por cuarto\n",
        "df['income_times_rooms'] = df['median_income'] * df['total_rooms']             # Ingreso total en relacion con cantidad de cuartos\n",
        "df['income_times_bedroom_ratio'] = df['median_income'] * df['bedroom_ratio']   # Ingreso ponderado por relacion de cuartos\n",
        "df['log_total_rooms'] = np.log1p(df['total_rooms'])                            # Logaritmo de total de cuartos (reduce valores extremos)\n",
        "df['log_population'] = np.log1p(df['population'])                              # Logaritmo de poblacion (reduce valores extremos)\n",
        "\n",
        "# Creamos variables que representan zonas geográficas por latitud y longitud\n",
        "\n",
        "df['near_coast'] = ((df['longitude'] > -124) & (df['latitude'] > 32)).astype(int)  # Cerca de la costa sur de California\n",
        "df['far_north'] = (df['latitude'] > 38).astype(int)                                # En el norte de California\n",
        "df['central_ca'] = ((df['latitude'] >= 35) & (df['latitude'] <= 37)).astype(int)   # Zona central de California\n",
        "\n",
        "\n",
        "# Agrupamos los ingresos en categorias discretas (muy bajo, bajo, medio, etc.)\n",
        "df['income_level'] = pd.cut(df['median_income'],\n",
        "                            bins=[0, 2, 4, 6, 8, np.inf],\n",
        "                            labels=['muy_bajo', 'bajo', 'medio', 'alto', 'muy_alto'])\n",
        "\n",
        "# Convertimos esa columna categorica en variables dummy (0 o 1 por categoria)\n",
        "df = pd.get_dummies(df, columns=['income_level'], dtype=int)\n",
        "\n",
        "# Separamos las variables de entrada (X) de la variable objetivo (y)\n",
        "X = df.drop('median_house_value', axis=1)   # Todas las columnas menos el precio de la casa\n",
        "y = df['median_house_value']                # Precio de la casa (target)\n",
        "\n",
        "# Dividimos el dataset en datos de entrenamiento y de prueba (80/20)\n",
        "X_train, X_test, y_train, y_test = train_test_split(X, y, test_size=0.2, random_state=42)\n",
        "\n",
        "# Creamos el modelo de regresion lineal y lo entrenamos con los datos de entrenamiento\n",
        "modelo = LinearRegression()\n",
        "modelo.fit(X_train, y_train)\n",
        "\n",
        "# Usamos el modelo para hacer predicciones\n",
        "predicciones = modelo.predict(X_test)\n",
        "\n",
        "print(\"Entrenamiento R²:\", modelo.score(X_train, y_train))\n",
        "print(\"Test R²:\", modelo.score(X_test, y_test))\n",
        "print(\"RMSE:\", np.sqrt(mean_squared_error(y_test, predicciones)))\n",
        "\n",
        "plt.figure(figsize=(6,6))\n",
        "plt.scatter(y_test, predicciones, alpha=0.3)\n",
        "plt.xlabel(\"Valor Real\")\n",
        "plt.ylabel(\"Predicción\")\n",
        "plt.title(\"Predicción vs Valor Real\")\n",
        "plt.plot([y_test.min(), y_test.max()], [y_test.min(), y_test.max()], color='red')\n",
        "plt.grid(True)\n",
        "plt.tight_layout()\n",
        "plt.show()\n"
      ],
      "metadata": {
        "id": "33f7jNG2Sasr"
      },
      "execution_count": null,
      "outputs": []
    },
    {
      "cell_type": "markdown",
      "source": [
        "**Preguntas:**\n",
        "\n",
        "**¿El resultado fue mejor o peor?**\n",
        "Fue mejor, pero no por mucho, porque los datos que se dieron no son lineales, aunque en teoria se pudiera acoplar columnas para que muestre datos de forma mas lineal, podrian sesgar o dar muchos falsos positivos al momento de entrenar. Otros metodos de regresion son mucho mejores.\n",
        "\n",
        "**¿Por qué crees que es así?**\n",
        "\n",
        "Porque se mejoro lo siguiente:\n",
        "1. Agregamos mas caracteristicas y categorias\n",
        "2. Hicimos una separacion por regiones\n",
        "3. Removimos valores que hacian ruido\n"
      ],
      "metadata": {
        "id": "8mXB1GUjSgHP"
      }
    },
    {
      "cell_type": "code",
      "execution_count": 2,
      "metadata": {
        "colab": {
          "base_uri": "https://localhost:8080/"
        },
        "id": "TYaW06pineoA",
        "outputId": "f6550d93-c080-473b-a9ce-231db6e9101c"
      },
      "outputs": [
        {
          "output_type": "stream",
          "name": "stdout",
          "text": [
            "R² entrenamiento: 0.9129\n",
            "R² prueba: 0.7997\n"
          ]
        }
      ],
      "source": [
        "import pandas as pd\n",
        "import seaborn as sns\n",
        "import matplotlib.pyplot as plt\n",
        "\n",
        "from sklearn.model_selection import train_test_split\n",
        "from sklearn.preprocessing import StandardScaler, OneHotEncoder\n",
        "from sklearn.compose import ColumnTransformer\n",
        "from sklearn.pipeline import Pipeline\n",
        "from sklearn.ensemble import RandomForestRegressor\n",
        "from sklearn.metrics import r2_score\n",
        "\n",
        "# Cargamos los datos\n",
        "df = pd.read_csv('housing.csv')\n",
        "\n",
        "\n",
        "# Aqui eliminamos todas las filas con valores null porque afecta el resultado de nuestro entrenamiento y la referencia entre datos\n",
        "df.dropna(inplace=True)\n",
        "\n",
        "\n",
        "# Luego de analizar los datos entre graficos y usando logica de como la tabla  muestra los valores, tenemos que hacer columnas que sean influyentes para el train\n",
        "# Creamos nuevas columas de combinaciones de las ya existentes para tener valores mas criticos\n",
        "df[\"rooms_per_household\"] = df[\"total_rooms\"] / df[\"households\"]\n",
        "# Dividimos el total de rooms entre households para calcular un numero aproximado de cuartos en hogares\n",
        "\n",
        "df[\"bedrooms_per_room\"] = df[\"total_bedrooms\"] / df[\"total_rooms\"]\n",
        "# Obtenemos el division de habitaciones sobre cuartos, porque no todo cuarto es una habitacion cual influye el valor\n",
        "\n",
        "df[\"population_per_household\"] = df[\"population\"] / df[\"households\"]\n",
        "# Es importante saber un aproximado de gente por hogar, asi se determine la densidad de populacion en la region\n",
        "\n",
        "\n",
        "# Separar variables para nuestra prediccion\n",
        "# X son todas la variables que se usaran para predecir el precio de la casa\n",
        "# y sera el valor que queremos determinar, la precio de la casa\n",
        "X = df.drop(\"median_house_value\", axis=1)\n",
        "y = df[\"median_house_value\"]\n",
        "\n",
        "\n",
        "# Luego de reconocer el tipo de columnas, identificamos las columnas numericas y categoricas\n",
        "num_cols = X.select_dtypes(include=[\"int64\", \"float64\"]).columns\n",
        "cat_cols = X.select_dtypes(include=[\"object\"]).columns\n",
        "\n",
        "\n",
        "# Aqui creamos transformaciones hacia las columnas.\n",
        "# Las columnas numericas -> StandardScalar. Realiza una media y desviacion estandar\n",
        "# Las columnas categoricas -> OneHotEncoder. Hace un dummy automatico a cada categoria del dataset .\n",
        "\n",
        "preprocessor = ColumnTransformer([\n",
        "    (\"num\", StandardScaler(), num_cols),\n",
        "    (\"cat\", OneHotEncoder(handle_unknown=\"ignore\"), cat_cols)\n",
        "])\n",
        "\n",
        "# Luego de tener nuestros transformers, creamos un pipeline para automatizar el preprocessing\\\n",
        "# Utilizamos RandomForestRegression porque es un metodo mas facil para correlacionar datos ya dados.\n",
        "# Linear regression no puede adaptarse hacia datos cuales no tienen relaciones lineales\n",
        "model = Pipeline([\n",
        "    (\"preprocessing\", preprocessor),\n",
        "    (\"regressor\", RandomForestRegressor(n_estimators=200, max_depth=12, random_state=42))\n",
        "])\n",
        "\n",
        "# Aqui usamos preprocessing y comenzamos el entrenamiento y prueba.\n",
        "# Nos aseguramos el esfuerzo de 80% y 20% de test, para que pueda aprender y lograr su 100%\n",
        "X_train, X_test, y_train, y_test = train_test_split(X, y, test_size=0.2, random_state=42)\n",
        "\n",
        "model.fit(X_train, y_train)\n",
        "\n",
        "# Ponemos a prueba nuestro modelo y hacemos predicts para reconocer nuestro entrenamiento y prueba\n",
        "y_train_pred = model.predict(X_train)\n",
        "y_test_pred = model.predict(X_test)\n",
        "\n",
        "r2_train = r2_score(y_train, y_train_pred)\n",
        "r2_test = r2_score(y_test, y_test_pred)\n",
        "\n",
        "print(f\"R² entrenamiento: {r2_train:.4f}\")\n",
        "print(f\"R² prueba: {r2_test:.4f}\")\n"
      ]
    },
    {
      "cell_type": "markdown",
      "source": [
        "**Preguntas:**\n",
        "\n",
        "**¿El resultado fue mejor o peor?**\n",
        "Usando Random Forest Regressor y crear nuevas columnas como *rooms_per_household, bedrooms_per_room, populatio_per_household* obtuvimos mejores resultados de manera que optimizamos el entrenamiento y siendo mejor que el metodo Linear regression.\n",
        "\n",
        "**¿Por qué crees que es así?**\n",
        "Simplemente porque el problema no es lineal, aunque se pueda en teoria semejar datos y columnas para que sean lineales para Linear Regression, es mucho mas sencillo usar otro metodo de regresion para tener un mejor entrenamiento sin comprometer datos importante o sesgar nuestro entrenamiento.\n",
        "\n",
        "Por ejemplo *ocean_proximity* Linear Regression no puede entender que una zona tenga mas valor por nombre."
      ],
      "metadata": {
        "id": "QC_Gu-b2_YNb"
      }
    },
    {
      "cell_type": "code",
      "source": [
        "sns.boxplot(data=df, x='ocean_proximity', y='median_house_value')\n",
        "plt.title(\"Precio por proximidad al océano\")\n"
      ],
      "metadata": {
        "colab": {
          "base_uri": "https://localhost:8080/",
          "height": 490
        },
        "id": "AhUq4f5hBzkd",
        "outputId": "72517705-570e-442f-e383-0e6406896eec"
      },
      "execution_count": 4,
      "outputs": [
        {
          "output_type": "execute_result",
          "data": {
            "text/plain": [
              "Text(0.5, 1.0, 'Precio por proximidad al océano')"
            ]
          },
          "metadata": {},
          "execution_count": 4
        },
        {
          "output_type": "display_data",
          "data": {
            "text/plain": [
              "<Figure size 640x480 with 1 Axes>"
            ],
            "image/png": "[encoded data removed]"
          },
          "metadata": {}
        }
      ]
    }
  ]
}